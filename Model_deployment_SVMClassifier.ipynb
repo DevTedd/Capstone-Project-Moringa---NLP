{
  "nbformat": 4,
  "nbformat_minor": 0,
  "metadata": {
    "colab": {
      "name": "Model  deployment SVMClassifier.ipynb",
      "provenance": [],
      "authorship_tag": "ABX9TyObEBA/E+Cl7LhLENAE4GlC",
      "include_colab_link": true
    },
    "kernelspec": {
      "name": "python3",
      "display_name": "Python 3"
    },
    "language_info": {
      "name": "python"
    }
  },
  "cells": [
    {
      "cell_type": "markdown",
      "metadata": {
        "id": "view-in-github",
        "colab_type": "text"
      },
      "source": [
        "<a href=\"https://colab.research.google.com/github/DevTedd/Capstone-Project-Moringa---NLP/blob/main/Model_deployment_SVMClassifier.ipynb\" target=\"_parent\"><img src=\"https://colab.research.google.com/assets/colab-badge.svg\" alt=\"Open In Colab\"/></a>"
      ]
    },
    {
      "cell_type": "code",
      "execution_count": 11,
      "metadata": {
        "id": "Yo5rV55Yucj6"
      },
      "outputs": [],
      "source": [
        "# Loading pickle library\n",
        "import pickle"
      ]
    },
    {
      "cell_type": "code",
      "source": [
        "# Loading the saved model\n",
        "with open(\"model-SVMclassifier\",'rb') as f:\n",
        "  mb = pickle.load(f)"
      ],
      "metadata": {
        "id": "RQuIhbG5upQv"
      },
      "execution_count": 12,
      "outputs": []
    },
    {
      "cell_type": "code",
      "source": [
        "# Checking on the model performance\n",
        "x= '@user when a father is dysfunctional and is so selfish he drags his kids into his dysfunction. #run'\n",
        "mb.predict([x])"
      ],
      "metadata": {
        "id": "f5etatwr_8Yp",
        "colab": {
          "base_uri": "https://localhost:8080/"
        },
        "outputId": "1075b8d9-1666-4e8f-c9a8-fc4ce4e0d019"
      },
      "execution_count": 49,
      "outputs": [
        {
          "output_type": "execute_result",
          "data": {
            "text/plain": [
              "array([0])"
            ]
          },
          "metadata": {},
          "execution_count": 49
        }
      ]
    },
    {
      "cell_type": "code",
      "source": [
        "# Building a modelling function\n",
        "def predict_tweets(sent):\n",
        "  result = mb.predict([sent])\n",
        "  return result[0]"
      ],
      "metadata": {
        "id": "heltKzjOG4CR"
      },
      "execution_count": 43,
      "outputs": []
    },
    {
      "cell_type": "code",
      "source": [
        "# Testing the function\n",
        "predict_tweets('@user when a father is dysfunctional and is so selfish he drags his kids into his dysfunction. #run')"
      ],
      "metadata": {
        "colab": {
          "base_uri": "https://localhost:8080/"
        },
        "id": "3ij3QAK31SPX",
        "outputId": "8df57712-bb9f-4ebc-9381-07d9edb3304b"
      },
      "execution_count": 44,
      "outputs": [
        {
          "output_type": "execute_result",
          "data": {
            "text/plain": [
              "0"
            ]
          },
          "metadata": {},
          "execution_count": 44
        }
      ]
    },
    {
      "cell_type": "code",
      "source": [
        "# Creating meningful output\n",
        "prediction = predict_tweets(x)\n",
        "pred_dict ={0:\"Non Hateful\", 1:\"Hateful\"}\n",
        "pred = pred_dict[prediction]\n",
        "pred"
      ],
      "metadata": {
        "colab": {
          "base_uri": "https://localhost:8080/",
          "height": 35
        },
        "id": "vt9vbR94HMlt",
        "outputId": "b70e9c1c-9e85-4a2c-dced-ba3ddfc911b7"
      },
      "execution_count": 46,
      "outputs": [
        {
          "output_type": "execute_result",
          "data": {
            "application/vnd.google.colaboratory.intrinsic+json": {
              "type": "string"
            },
            "text/plain": [
              "'Non Hateful'"
            ]
          },
          "metadata": {},
          "execution_count": 46
        }
      ]
    },
    {
      "cell_type": "code",
      "source": [
        "# Installing streamlit\n",
        "!pip install streamlit"
      ],
      "metadata": {
        "id": "-i1SdhRswYB3",
        "colab": {
          "base_uri": "https://localhost:8080/"
        },
        "outputId": "017613b7-2d33-47bc-a5a8-45f550051367"
      },
      "execution_count": 17,
      "outputs": [
        {
          "output_type": "stream",
          "name": "stdout",
          "text": [
            "Requirement already satisfied: streamlit in /usr/local/lib/python3.7/dist-packages (1.6.0)\n",
            "Requirement already satisfied: attrs in /usr/local/lib/python3.7/dist-packages (from streamlit) (21.4.0)\n",
            "Requirement already satisfied: cachetools>=4.0 in /usr/local/lib/python3.7/dist-packages (from streamlit) (4.2.4)\n",
            "Requirement already satisfied: packaging in /usr/local/lib/python3.7/dist-packages (from streamlit) (21.3)\n",
            "Requirement already satisfied: semver in /usr/local/lib/python3.7/dist-packages (from streamlit) (2.13.0)\n",
            "Requirement already satisfied: tornado>=5.0 in /usr/local/lib/python3.7/dist-packages (from streamlit) (5.1.1)\n",
            "Requirement already satisfied: validators in /usr/local/lib/python3.7/dist-packages (from streamlit) (0.18.2)\n",
            "Requirement already satisfied: python-dateutil in /usr/local/lib/python3.7/dist-packages (from streamlit) (2.8.2)\n",
            "Requirement already satisfied: pillow>=6.2.0 in /usr/local/lib/python3.7/dist-packages (from streamlit) (7.1.2)\n",
            "Requirement already satisfied: astor in /usr/local/lib/python3.7/dist-packages (from streamlit) (0.8.1)\n",
            "Requirement already satisfied: click>=7.0 in /usr/local/lib/python3.7/dist-packages (from streamlit) (7.1.2)\n",
            "Requirement already satisfied: typing-extensions in /usr/local/lib/python3.7/dist-packages (from streamlit) (3.10.0.2)\n",
            "Requirement already satisfied: altair>=3.2.0 in /usr/local/lib/python3.7/dist-packages (from streamlit) (4.2.0)\n",
            "Requirement already satisfied: pympler>=0.9 in /usr/local/lib/python3.7/dist-packages (from streamlit) (1.0.1)\n",
            "Requirement already satisfied: watchdog in /usr/local/lib/python3.7/dist-packages (from streamlit) (2.1.6)\n",
            "Requirement already satisfied: pydeck>=0.1.dev5 in /usr/local/lib/python3.7/dist-packages (from streamlit) (0.7.1)\n",
            "Requirement already satisfied: toml in /usr/local/lib/python3.7/dist-packages (from streamlit) (0.10.2)\n",
            "Requirement already satisfied: tzlocal in /usr/local/lib/python3.7/dist-packages (from streamlit) (1.5.1)\n",
            "Requirement already satisfied: blinker in /usr/local/lib/python3.7/dist-packages (from streamlit) (1.4)\n",
            "Requirement already satisfied: requests in /usr/local/lib/python3.7/dist-packages (from streamlit) (2.23.0)\n",
            "Requirement already satisfied: importlib-metadata>=1.4 in /usr/local/lib/python3.7/dist-packages (from streamlit) (4.11.1)\n",
            "Requirement already satisfied: gitpython!=3.1.19 in /usr/local/lib/python3.7/dist-packages (from streamlit) (3.1.27)\n",
            "Requirement already satisfied: pandas>=0.21.0 in /usr/local/lib/python3.7/dist-packages (from streamlit) (1.3.5)\n",
            "Requirement already satisfied: pyarrow in /usr/local/lib/python3.7/dist-packages (from streamlit) (6.0.1)\n",
            "Requirement already satisfied: numpy in /usr/local/lib/python3.7/dist-packages (from streamlit) (1.21.5)\n",
            "Requirement already satisfied: protobuf!=3.11,>=3.6.0 in /usr/local/lib/python3.7/dist-packages (from streamlit) (3.17.3)\n",
            "Requirement already satisfied: base58 in /usr/local/lib/python3.7/dist-packages (from streamlit) (2.1.1)\n",
            "Requirement already satisfied: toolz in /usr/local/lib/python3.7/dist-packages (from altair>=3.2.0->streamlit) (0.11.2)\n",
            "Requirement already satisfied: jsonschema>=3.0 in /usr/local/lib/python3.7/dist-packages (from altair>=3.2.0->streamlit) (4.3.3)\n",
            "Requirement already satisfied: entrypoints in /usr/local/lib/python3.7/dist-packages (from altair>=3.2.0->streamlit) (0.4)\n",
            "Requirement already satisfied: jinja2 in /usr/local/lib/python3.7/dist-packages (from altair>=3.2.0->streamlit) (2.11.3)\n",
            "Requirement already satisfied: gitdb<5,>=4.0.1 in /usr/local/lib/python3.7/dist-packages (from gitpython!=3.1.19->streamlit) (4.0.9)\n",
            "Requirement already satisfied: smmap<6,>=3.0.1 in /usr/local/lib/python3.7/dist-packages (from gitdb<5,>=4.0.1->gitpython!=3.1.19->streamlit) (5.0.0)\n",
            "Requirement already satisfied: zipp>=0.5 in /usr/local/lib/python3.7/dist-packages (from importlib-metadata>=1.4->streamlit) (3.7.0)\n",
            "Requirement already satisfied: importlib-resources>=1.4.0 in /usr/local/lib/python3.7/dist-packages (from jsonschema>=3.0->altair>=3.2.0->streamlit) (5.4.0)\n",
            "Requirement already satisfied: pyrsistent!=0.17.0,!=0.17.1,!=0.17.2,>=0.14.0 in /usr/local/lib/python3.7/dist-packages (from jsonschema>=3.0->altair>=3.2.0->streamlit) (0.18.1)\n",
            "Requirement already satisfied: pytz>=2017.3 in /usr/local/lib/python3.7/dist-packages (from pandas>=0.21.0->streamlit) (2018.9)\n",
            "Requirement already satisfied: six>=1.9 in /usr/local/lib/python3.7/dist-packages (from protobuf!=3.11,>=3.6.0->streamlit) (1.15.0)\n",
            "Requirement already satisfied: ipywidgets>=7.0.0 in /usr/local/lib/python3.7/dist-packages (from pydeck>=0.1.dev5->streamlit) (7.6.5)\n",
            "Requirement already satisfied: ipykernel>=5.1.2 in /usr/local/lib/python3.7/dist-packages (from pydeck>=0.1.dev5->streamlit) (6.9.1)\n",
            "Requirement already satisfied: traitlets>=4.3.2 in /usr/local/lib/python3.7/dist-packages (from pydeck>=0.1.dev5->streamlit) (5.1.1)\n",
            "Requirement already satisfied: jupyter-client<8.0 in /usr/local/lib/python3.7/dist-packages (from ipykernel>=5.1.2->pydeck>=0.1.dev5->streamlit) (5.3.5)\n",
            "Requirement already satisfied: ipython>=7.23.1 in /usr/local/lib/python3.7/dist-packages (from ipykernel>=5.1.2->pydeck>=0.1.dev5->streamlit) (7.32.0)\n",
            "Requirement already satisfied: nest-asyncio in /usr/local/lib/python3.7/dist-packages (from ipykernel>=5.1.2->pydeck>=0.1.dev5->streamlit) (1.5.4)\n",
            "Requirement already satisfied: debugpy<2.0,>=1.0.0 in /usr/local/lib/python3.7/dist-packages (from ipykernel>=5.1.2->pydeck>=0.1.dev5->streamlit) (1.0.0)\n",
            "Requirement already satisfied: matplotlib-inline<0.2.0,>=0.1.0 in /usr/local/lib/python3.7/dist-packages (from ipykernel>=5.1.2->pydeck>=0.1.dev5->streamlit) (0.1.3)\n",
            "Requirement already satisfied: setuptools>=18.5 in /usr/local/lib/python3.7/dist-packages (from ipython>=7.23.1->ipykernel>=5.1.2->pydeck>=0.1.dev5->streamlit) (57.4.0)\n",
            "Requirement already satisfied: decorator in /usr/local/lib/python3.7/dist-packages (from ipython>=7.23.1->ipykernel>=5.1.2->pydeck>=0.1.dev5->streamlit) (4.4.2)\n",
            "Requirement already satisfied: pickleshare in /usr/local/lib/python3.7/dist-packages (from ipython>=7.23.1->ipykernel>=5.1.2->pydeck>=0.1.dev5->streamlit) (0.7.5)\n",
            "Requirement already satisfied: backcall in /usr/local/lib/python3.7/dist-packages (from ipython>=7.23.1->ipykernel>=5.1.2->pydeck>=0.1.dev5->streamlit) (0.2.0)\n",
            "Requirement already satisfied: pygments in /usr/local/lib/python3.7/dist-packages (from ipython>=7.23.1->ipykernel>=5.1.2->pydeck>=0.1.dev5->streamlit) (2.6.1)\n",
            "Requirement already satisfied: prompt-toolkit!=3.0.0,!=3.0.1,<3.1.0,>=2.0.0 in /usr/local/lib/python3.7/dist-packages (from ipython>=7.23.1->ipykernel>=5.1.2->pydeck>=0.1.dev5->streamlit) (3.0.28)\n",
            "Requirement already satisfied: jedi>=0.16 in /usr/local/lib/python3.7/dist-packages (from ipython>=7.23.1->ipykernel>=5.1.2->pydeck>=0.1.dev5->streamlit) (0.18.1)\n",
            "Requirement already satisfied: pexpect>4.3 in /usr/local/lib/python3.7/dist-packages (from ipython>=7.23.1->ipykernel>=5.1.2->pydeck>=0.1.dev5->streamlit) (4.8.0)\n",
            "Requirement already satisfied: widgetsnbextension~=3.5.0 in /usr/local/lib/python3.7/dist-packages (from ipywidgets>=7.0.0->pydeck>=0.1.dev5->streamlit) (3.5.2)\n",
            "Requirement already satisfied: jupyterlab-widgets>=1.0.0 in /usr/local/lib/python3.7/dist-packages (from ipywidgets>=7.0.0->pydeck>=0.1.dev5->streamlit) (1.0.2)\n",
            "Requirement already satisfied: ipython-genutils~=0.2.0 in /usr/local/lib/python3.7/dist-packages (from ipywidgets>=7.0.0->pydeck>=0.1.dev5->streamlit) (0.2.0)\n",
            "Requirement already satisfied: nbformat>=4.2.0 in /usr/local/lib/python3.7/dist-packages (from ipywidgets>=7.0.0->pydeck>=0.1.dev5->streamlit) (5.1.3)\n",
            "Requirement already satisfied: parso<0.9.0,>=0.8.0 in /usr/local/lib/python3.7/dist-packages (from jedi>=0.16->ipython>=7.23.1->ipykernel>=5.1.2->pydeck>=0.1.dev5->streamlit) (0.8.3)\n",
            "Requirement already satisfied: MarkupSafe>=0.23 in /usr/local/lib/python3.7/dist-packages (from jinja2->altair>=3.2.0->streamlit) (2.0.1)\n",
            "Requirement already satisfied: pyzmq>=13 in /usr/local/lib/python3.7/dist-packages (from jupyter-client<8.0->ipykernel>=5.1.2->pydeck>=0.1.dev5->streamlit) (22.3.0)\n",
            "Requirement already satisfied: jupyter-core>=4.6.0 in /usr/local/lib/python3.7/dist-packages (from jupyter-client<8.0->ipykernel>=5.1.2->pydeck>=0.1.dev5->streamlit) (4.9.2)\n",
            "Requirement already satisfied: ptyprocess>=0.5 in /usr/local/lib/python3.7/dist-packages (from pexpect>4.3->ipython>=7.23.1->ipykernel>=5.1.2->pydeck>=0.1.dev5->streamlit) (0.7.0)\n",
            "Requirement already satisfied: wcwidth in /usr/local/lib/python3.7/dist-packages (from prompt-toolkit!=3.0.0,!=3.0.1,<3.1.0,>=2.0.0->ipython>=7.23.1->ipykernel>=5.1.2->pydeck>=0.1.dev5->streamlit) (0.2.5)\n",
            "Requirement already satisfied: notebook>=4.4.1 in /usr/local/lib/python3.7/dist-packages (from widgetsnbextension~=3.5.0->ipywidgets>=7.0.0->pydeck>=0.1.dev5->streamlit) (5.3.1)\n",
            "Requirement already satisfied: terminado>=0.8.1 in /usr/local/lib/python3.7/dist-packages (from notebook>=4.4.1->widgetsnbextension~=3.5.0->ipywidgets>=7.0.0->pydeck>=0.1.dev5->streamlit) (0.13.1)\n",
            "Requirement already satisfied: Send2Trash in /usr/local/lib/python3.7/dist-packages (from notebook>=4.4.1->widgetsnbextension~=3.5.0->ipywidgets>=7.0.0->pydeck>=0.1.dev5->streamlit) (1.8.0)\n",
            "Requirement already satisfied: nbconvert in /usr/local/lib/python3.7/dist-packages (from notebook>=4.4.1->widgetsnbextension~=3.5.0->ipywidgets>=7.0.0->pydeck>=0.1.dev5->streamlit) (5.6.1)\n",
            "Requirement already satisfied: bleach in /usr/local/lib/python3.7/dist-packages (from nbconvert->notebook>=4.4.1->widgetsnbextension~=3.5.0->ipywidgets>=7.0.0->pydeck>=0.1.dev5->streamlit) (4.1.0)\n",
            "Requirement already satisfied: defusedxml in /usr/local/lib/python3.7/dist-packages (from nbconvert->notebook>=4.4.1->widgetsnbextension~=3.5.0->ipywidgets>=7.0.0->pydeck>=0.1.dev5->streamlit) (0.7.1)\n",
            "Requirement already satisfied: pandocfilters>=1.4.1 in /usr/local/lib/python3.7/dist-packages (from nbconvert->notebook>=4.4.1->widgetsnbextension~=3.5.0->ipywidgets>=7.0.0->pydeck>=0.1.dev5->streamlit) (1.5.0)\n",
            "Requirement already satisfied: testpath in /usr/local/lib/python3.7/dist-packages (from nbconvert->notebook>=4.4.1->widgetsnbextension~=3.5.0->ipywidgets>=7.0.0->pydeck>=0.1.dev5->streamlit) (0.6.0)\n",
            "Requirement already satisfied: mistune<2,>=0.8.1 in /usr/local/lib/python3.7/dist-packages (from nbconvert->notebook>=4.4.1->widgetsnbextension~=3.5.0->ipywidgets>=7.0.0->pydeck>=0.1.dev5->streamlit) (0.8.4)\n",
            "Requirement already satisfied: webencodings in /usr/local/lib/python3.7/dist-packages (from bleach->nbconvert->notebook>=4.4.1->widgetsnbextension~=3.5.0->ipywidgets>=7.0.0->pydeck>=0.1.dev5->streamlit) (0.5.1)\n",
            "Requirement already satisfied: pyparsing!=3.0.5,>=2.0.2 in /usr/local/lib/python3.7/dist-packages (from packaging->streamlit) (3.0.7)\n",
            "Requirement already satisfied: idna<3,>=2.5 in /usr/local/lib/python3.7/dist-packages (from requests->streamlit) (2.10)\n",
            "Requirement already satisfied: certifi>=2017.4.17 in /usr/local/lib/python3.7/dist-packages (from requests->streamlit) (2021.10.8)\n",
            "Requirement already satisfied: chardet<4,>=3.0.2 in /usr/local/lib/python3.7/dist-packages (from requests->streamlit) (3.0.4)\n",
            "Requirement already satisfied: urllib3!=1.25.0,!=1.25.1,<1.26,>=1.21.1 in /usr/local/lib/python3.7/dist-packages (from requests->streamlit) (1.24.3)\n"
          ]
        }
      ]
    },
    {
      "cell_type": "code",
      "source": [
        "# Installing pyngrok\n",
        "!pip install pyngrok"
      ],
      "metadata": {
        "id": "hdr7leUaxBRU",
        "colab": {
          "base_uri": "https://localhost:8080/"
        },
        "outputId": "3b08e7c9-9884-4256-8947-68bc1cdaa013"
      },
      "execution_count": 19,
      "outputs": [
        {
          "output_type": "stream",
          "name": "stdout",
          "text": [
            "Collecting pyngrok\n",
            "  Downloading pyngrok-5.1.0.tar.gz (745 kB)\n",
            "\u001b[K     |████████████████████████████████| 745 kB 7.6 MB/s \n",
            "\u001b[?25hRequirement already satisfied: PyYAML in /usr/local/lib/python3.7/dist-packages (from pyngrok) (3.13)\n",
            "Building wheels for collected packages: pyngrok\n",
            "  Building wheel for pyngrok (setup.py) ... \u001b[?25l\u001b[?25hdone\n",
            "  Created wheel for pyngrok: filename=pyngrok-5.1.0-py3-none-any.whl size=19007 sha256=67e5eef91f213b902f57c51ab1b74efad371e239c8dc52fa001b0c9fcefad545\n",
            "  Stored in directory: /root/.cache/pip/wheels/bf/e6/af/ccf6598ecefecd44104069371795cb9b3afbcd16987f6ccfb3\n",
            "Successfully built pyngrok\n",
            "Installing collected packages: pyngrok\n",
            "Successfully installed pyngrok-5.1.0\n"
          ]
        }
      ]
    },
    {
      "cell_type": "code",
      "source": [
        "# Creating the streamlit app\n",
        "%%writefile app.py\n",
        "import streamlit as st\n",
        "import pickle\n",
        "with open(\"model-SVMclassifier\",'rb') as f:\n",
        "  mb = pickle.load(f)\n",
        "PAGE_CONFIG = {\"page_title\":\"NLP Tweet classification\"}\n",
        "st.set_page_config(**PAGE_CONFIG)\n",
        "\n",
        "def predict_tweets(sent):\n",
        "  result = mb.predict([sent])\n",
        "  return result[0]\n",
        "\n",
        "def main():\n",
        "  st.title(\"Tweet Classification Using NLP and ML\")\n",
        "  st.subheader(\"Using a machine learning model to classify hateful tweets\")\n",
        "\t\n",
        "  menu = [\"Home\",\"About\"]\n",
        "\n",
        "  choice = st.sidebar.selectbox('Menu',menu)\n",
        "\t\n",
        "  if choice == 'Home':\n",
        "\t\t\n",
        "    st.subheader(\"Hate tweet classifier\")\n",
        "    with st.form(key=\"tweet_predictor\"):\n",
        "      tweet = st.text_area(\"Type tweet here\")\n",
        "      submit_tweet = st.form_submit_button(label=\"classify\")\n",
        "      prediction = predict_tweets(tweet)\n",
        "      pred_dict ={0:\"Non Hateful\", 1:\"Hateful\"}\n",
        "\n",
        "\n",
        "\n",
        "      if submit_tweet:\n",
        "          predict_tweets(tweet)\n",
        "          st.success(\"Tweet\")\n",
        "          st.write(tweet)\n",
        "          st.success(\"Prediction\")\n",
        "          pred = pred_dict[prediction]\n",
        "          st.text(pred)\n",
        "          \n",
        "\n",
        "\n",
        "  else:\n",
        "    st.subheader(\"Kenyans on Twitter Group\")\n",
        "    st.text(\"Our KOT group worked on a twitter hateful speech classification problem.\")\n",
        "    st.text(\"We deployed our model here and we are confident it will be useful \\n in classifying tweets. \\n The data classifies hate tweets based on the American political context\")\n",
        "if __name__ == '__main__':\n",
        "\tmain()"
      ],
      "metadata": {
        "colab": {
          "base_uri": "https://localhost:8080/"
        },
        "id": "p7_7l2dexL_h",
        "outputId": "67555908-f111-4262-ee3a-c45580c8a7c4"
      },
      "execution_count": 52,
      "outputs": [
        {
          "output_type": "stream",
          "name": "stdout",
          "text": [
            "Overwriting app.py\n"
          ]
        }
      ]
    },
    {
      "cell_type": "code",
      "source": [
        "# Loading ngrok toen\n",
        "!ngrok authtoken 25bIqKInBIglcbOqBa2BJYN5qDA_5L2Vf8C3Yu57LrT57vrya"
      ],
      "metadata": {
        "colab": {
          "base_uri": "https://localhost:8080/"
        },
        "id": "jvqHjIaga9et",
        "outputId": "7f2c455d-350a-4694-9c77-2f8d1aeb4e2b"
      },
      "execution_count": 22,
      "outputs": [
        {
          "output_type": "stream",
          "name": "stdout",
          "text": [
            "Authtoken saved to configuration file: /root/.ngrok2/ngrok.yml\n"
          ]
        }
      ]
    },
    {
      "cell_type": "code",
      "source": [
        "# Running streamlit app in the background of local machine \n",
        "!streamlit run app.py&>/dev/null&"
      ],
      "metadata": {
        "id": "0ykM-GWKdW1u"
      },
      "execution_count": 23,
      "outputs": []
    },
    {
      "cell_type": "code",
      "source": [
        "# Loading ngrok library from pyngrok\n",
        "from pyngrok import ngrok"
      ],
      "metadata": {
        "id": "Ho54tJuGbvPL"
      },
      "execution_count": 24,
      "outputs": []
    },
    {
      "cell_type": "code",
      "source": [
        "# Creating a tunneling port from local machine to internet\n",
        "pub_url = ngrok.connect(addr=8501)"
      ],
      "metadata": {
        "colab": {
          "base_uri": "https://localhost:8080/"
        },
        "id": "3NGmW_9Lb1cT",
        "outputId": "eca7c6f0-ab96-4aae-a51f-ded1fc5e6a36"
      },
      "execution_count": 25,
      "outputs": [
        {
          "output_type": "stream",
          "name": "stderr",
          "text": [
            "2022-03-02 13:43:56.993 INFO    pyngrok.ngrok: Opening tunnel named: http-8501-5b420c83-e18b-482a-8fde-a0410051cc2d\n",
            "2022-03-02 13:43:57.108 INFO    pyngrok.process.ngrok: t=2022-03-02T13:43:57+0000 lvl=info msg=\"no configuration paths supplied\"\n",
            "2022-03-02 13:43:57.113 INFO    pyngrok.process.ngrok: t=2022-03-02T13:43:57+0000 lvl=info msg=\"using configuration at default config path\" path=/root/.ngrok2/ngrok.yml\n",
            "2022-03-02 13:43:57.117 INFO    pyngrok.process.ngrok: t=2022-03-02T13:43:57+0000 lvl=info msg=\"open config file\" path=/root/.ngrok2/ngrok.yml err=nil\n",
            "2022-03-02 13:43:57.122 INFO    pyngrok.process.ngrok: t=2022-03-02T13:43:57+0000 lvl=info msg=\"starting web service\" obj=web addr=127.0.0.1:4040\n",
            "2022-03-02 13:43:57.358 INFO    pyngrok.process.ngrok: t=2022-03-02T13:43:57+0000 lvl=info msg=\"tunnel session started\" obj=tunnels.session\n",
            "2022-03-02 13:43:57.360 INFO    pyngrok.process.ngrok: t=2022-03-02T13:43:57+0000 lvl=info msg=\"client session established\" obj=csess id=08170f42b82a\n",
            "2022-03-02 13:43:57.368 INFO    pyngrok.process.ngrok: t=2022-03-02T13:43:57+0000 lvl=info msg=start pg=/api/tunnels id=fefa6a497eb360c5\n",
            "2022-03-02 13:43:57.371 INFO    pyngrok.process.ngrok: t=2022-03-02T13:43:57+0000 lvl=info msg=end pg=/api/tunnels id=fefa6a497eb360c5 status=200 dur=445.618µs\n",
            "2022-03-02 13:43:57.373 INFO    pyngrok.process.ngrok: t=2022-03-02T13:43:57+0000 lvl=info msg=start pg=/api/tunnels id=f72cb1f0c2fb03bf\n",
            "2022-03-02 13:43:57.381 INFO    pyngrok.process.ngrok: t=2022-03-02T13:43:57+0000 lvl=info msg=end pg=/api/tunnels id=f72cb1f0c2fb03bf status=200 dur=177.162µs\n",
            "2022-03-02 13:43:57.385 INFO    pyngrok.process.ngrok: t=2022-03-02T13:43:57+0000 lvl=info msg=start pg=/api/tunnels id=803f153055db4f81\n",
            "2022-03-02 13:43:57.538 INFO    pyngrok.process.ngrok: t=2022-03-02T13:43:57+0000 lvl=info msg=\"started tunnel\" obj=tunnels name=\"http-8501-5b420c83-e18b-482a-8fde-a0410051cc2d (http)\" addr=http://localhost:8501 url=http://0b14-34-83-30-189.ngrok.io\n",
            "2022-03-02 13:43:57.544 INFO    pyngrok.process.ngrok: t=2022-03-02T13:43:57+0000 lvl=info msg=\"started tunnel\" obj=tunnels name=http-8501-5b420c83-e18b-482a-8fde-a0410051cc2d addr=http://localhost:8501 url=https://0b14-34-83-30-189.ngrok.io\n",
            "2022-03-02 13:43:57.548 INFO    pyngrok.process.ngrok: t=2022-03-02T13:43:57+0000 lvl=info msg=end pg=/api/tunnels id=803f153055db4f81 status=201 dur=164.658389ms\n",
            "2022-03-02 13:43:57.553 INFO    pyngrok.process.ngrok: t=2022-03-02T13:43:57+0000 lvl=info msg=start pg=\"/api/tunnels/http-8501-5b420c83-e18b-482a-8fde-a0410051cc2d (http)\" id=609574721a9a8a95\n",
            "2022-03-02 13:43:57.557 INFO    pyngrok.process.ngrok: t=2022-03-02T13:43:57+0000 lvl=info msg=end pg=\"/api/tunnels/http-8501-5b420c83-e18b-482a-8fde-a0410051cc2d (http)\" id=609574721a9a8a95 status=200 dur=164.792µs\n"
          ]
        }
      ]
    },
    {
      "cell_type": "code",
      "source": [
        "# Getting the public url\n",
        "pub_url"
      ],
      "metadata": {
        "colab": {
          "base_uri": "https://localhost:8080/"
        },
        "id": "SHTJ-6T8bVLZ",
        "outputId": "20408153-f2dd-4e32-cee2-ae4c65c8b624"
      },
      "execution_count": 26,
      "outputs": [
        {
          "output_type": "execute_result",
          "data": {
            "text/plain": [
              "<NgrokTunnel: \"http://0b14-34-83-30-189.ngrok.io\" -> \"http://localhost:8501\">"
            ]
          },
          "metadata": {},
          "execution_count": 26
        }
      ]
    }
  ]
}