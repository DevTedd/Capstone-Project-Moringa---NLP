{
  "nbformat": 4,
  "nbformat_minor": 0,
  "metadata": {
    "colab": {
      "name": "Model  deployment SVMClassifier.ipynb",
      "provenance": [],
      "authorship_tag": "ABX9TyOm0A/M9dMt7Aq2C4uYQ8i8",
      "include_colab_link": true
    },
    "kernelspec": {
      "name": "python3",
      "display_name": "Python 3"
    },
    "language_info": {
      "name": "python"
    }
  },
  "cells": [
    {
      "cell_type": "markdown",
      "metadata": {
        "id": "view-in-github",
        "colab_type": "text"
      },
      "source": [
        "<a href=\"https://colab.research.google.com/github/DevTedd/Capstone-Project-Moringa---NLP/blob/main/Model_deployment_SVMClassifier.ipynb\" target=\"_parent\"><img src=\"https://colab.research.google.com/assets/colab-badge.svg\" alt=\"Open In Colab\"/></a>"
      ]
    },
    {
      "cell_type": "code",
      "execution_count": null,
      "metadata": {
        "id": "Yo5rV55Yucj6"
      },
      "outputs": [],
      "source": [
        "import pickle"
      ]
    },
    {
      "cell_type": "code",
      "source": [
        "with open(\"model-SVMclassifier\",'rb') as f:\n",
        "  mb = pickle.load(f)"
      ],
      "metadata": {
        "id": "RQuIhbG5upQv"
      },
      "execution_count": null,
      "outputs": []
    },
    {
      "cell_type": "code",
      "source": [
        "x= '@user when a father is dysfunctional and is so selfish he drags his kids into his dysfunction. #run'"
      ],
      "metadata": {
        "id": "f5etatwr_8Yp"
      },
      "execution_count": null,
      "outputs": []
    },
    {
      "cell_type": "code",
      "source": [
        "mb.predict([x])"
      ],
      "metadata": {
        "colab": {
          "base_uri": "https://localhost:8080/"
        },
        "id": "zsQ2amoxwUta",
        "outputId": "6d2d71d2-e33f-4f24-cde3-8234fdc0a21c"
      },
      "execution_count": null,
      "outputs": [
        {
          "output_type": "execute_result",
          "data": {
            "text/plain": [
              "array([0])"
            ]
          },
          "metadata": {},
          "execution_count": 25
        }
      ]
    },
    {
      "cell_type": "code",
      "source": [
        "#!pip install streamlit"
      ],
      "metadata": {
        "id": "-i1SdhRswYB3"
      },
      "execution_count": null,
      "outputs": []
    },
    {
      "cell_type": "code",
      "source": [
        "#!pip install pyngrok"
      ],
      "metadata": {
        "id": "hdr7leUaxBRU"
      },
      "execution_count": null,
      "outputs": []
    },
    {
      "cell_type": "code",
      "source": [
        "%%writefile app.py\n",
        "import streamlit as st\n",
        "def main():\n",
        "  st.title(\"Classifier for tweets\")\n",
        "  st.header(\"To determine whether tweet is hateful or not\")\n",
        "  "
      ],
      "metadata": {
        "colab": {
          "base_uri": "https://localhost:8080/"
        },
        "id": "p7_7l2dexL_h",
        "outputId": "67de2666-f1bb-4f49-a0f4-0d839694f307"
      },
      "execution_count": null,
      "outputs": [
        {
          "output_type": "stream",
          "name": "stdout",
          "text": [
            "Overwriting app.py\n"
          ]
        }
      ]
    },
    {
      "cell_type": "code",
      "source": [
        "!ls"
      ],
      "metadata": {
        "colab": {
          "base_uri": "https://localhost:8080/"
        },
        "id": "ZqW56yMFiQu-",
        "outputId": "c0c3369b-be95-4659-8e54-d4fb7eecb27b"
      },
      "execution_count": null,
      "outputs": [
        {
          "output_type": "stream",
          "name": "stdout",
          "text": [
            "app.py\t\t  model-SVMclassifier\t   sample_data\n",
            "model-classifier  model-SVMclassifier.pkl\n"
          ]
        }
      ]
    }
  ]
}