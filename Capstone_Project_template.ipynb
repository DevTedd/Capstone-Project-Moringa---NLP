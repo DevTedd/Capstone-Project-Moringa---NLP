{
  "nbformat": 4,
  "nbformat_minor": 0,
  "metadata": {
    "colab": {
      "name": "Capstone Project  template",
      "provenance": [],
      "toc_visible": true,
      "authorship_tag": "ABX9TyPKSdO8+2/cjYuvqgAw+Lg4",
      "include_colab_link": true
    },
    "kernelspec": {
      "name": "python3",
      "display_name": "Python 3"
    },
    "language_info": {
      "name": "python"
    }
  },
  "cells": [
    {
      "cell_type": "markdown",
      "metadata": {
        "id": "view-in-github",
        "colab_type": "text"
      },
      "source": [
        "<a href=\"https://colab.research.google.com/github/DevTedd/Capstone-Project-Moringa---NLP/blob/main/Capstone_Project_template.ipynb\" target=\"_parent\"><img src=\"https://colab.research.google.com/assets/colab-badge.svg\" alt=\"Open In Colab\"/></a>"
      ]
    },
    {
      "cell_type": "markdown",
      "source": [
        "# Professional Development : Capstone Project\n",
        "\n",
        "Team Members \n",
        "\n",
        "\n",
        "\n",
        "1.   Kevin Kilonzo\n",
        "\n",
        "2.   Rachel Juma\n",
        "\n",
        "3.   Farnadis Kanja\n",
        "\n",
        "4.   Ted Kimani"
      ],
      "metadata": {
        "id": "HSO7Tz73JI62"
      }
    },
    {
      "cell_type": "markdown",
      "source": [
        "## 1. Defining the Question"
      ],
      "metadata": {
        "id": "ffjsFUTFJPuA"
      }
    },
    {
      "cell_type": "markdown",
      "source": [
        "### a) Specifying the Question/ problem Statement\n",
        "\n",
        "With the help of this dataset, one can understand more about human sentiments and also analyse the situation when a particular person intends to make use of hatred/racist comments"
      ],
      "metadata": {
        "id": "DYwB79ldJS-F"
      }
    },
    {
      "cell_type": "markdown",
      "source": [
        "### b) Defining the Metric for Success/ Main Objective\n",
        "\n",
        "The creation of a model that can identify hateful tweets"
      ],
      "metadata": {
        "id": "F2ogNBunJTfB"
      }
    },
    {
      "cell_type": "markdown",
      "source": [
        "### c) Business Understanding\n",
        "\n",
        "Social media, twitter in particular, has now become an integral part of how news is delivered. The demand for information continues to grow as has the sources of this news and thus creating a need for news classification. Using machine learning, news can be classified, therefore, enabling the user to access information that is interesting to them quickly and efficiently. "
      ],
      "metadata": {
        "id": "uIr80DlOMBm6"
      }
    },
    {
      "cell_type": "markdown",
      "source": [
        "### d) Recording the Experimental Design"
      ],
      "metadata": {
        "id": "kYUT4nHEME8U"
      }
    },
    {
      "cell_type": "markdown",
      "source": [
        "### e) Data Relevance"
      ],
      "metadata": {
        "id": "ik8UitvhML5W"
      }
    },
    {
      "cell_type": "markdown",
      "source": [
        "## 2. Reading the Data"
      ],
      "metadata": {
        "id": "6-sc9ZBzMRW-"
      }
    },
    {
      "cell_type": "markdown",
      "source": [
        "## 3. Checking the Data"
      ],
      "metadata": {
        "id": "9wB33BlrMbuJ"
      }
    },
    {
      "cell_type": "markdown",
      "source": [
        "## 5. Tidying the Dataset"
      ],
      "metadata": {
        "id": "UNbwiJI8McWm"
      }
    },
    {
      "cell_type": "markdown",
      "source": [
        "## 6. Exploratory Analysis"
      ],
      "metadata": {
        "id": "STqoxX-sNxOj"
      }
    },
    {
      "cell_type": "markdown",
      "source": [
        "Univariate analysis"
      ],
      "metadata": {
        "id": "mDUAdjUFN3QE"
      }
    },
    {
      "cell_type": "markdown",
      "source": [
        "Bivariate analysis"
      ],
      "metadata": {
        "id": "b-guKjsmN4OJ"
      }
    },
    {
      "cell_type": "markdown",
      "source": [
        "## Implementing the solution"
      ],
      "metadata": {
        "id": "zEOVtw19PWHN"
      }
    },
    {
      "cell_type": "markdown",
      "source": [
        "## Optimization"
      ],
      "metadata": {
        "id": "lQjbkfQNPWxY"
      }
    }
  ]
}